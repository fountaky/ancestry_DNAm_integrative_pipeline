{
 "cells": [
  {
   "attachments": {},
   "cell_type": "markdown",
   "id": "dde9df5f",
   "metadata": {},
   "source": [
    "# Identify eQTM communities across the whole eQTM network"
   ]
  },
  {
   "cell_type": "markdown",
   "id": "2cf1ca7f",
   "metadata": {},
   "source": [
    "## Import libraries"
   ]
  },
  {
   "cell_type": "code",
   "execution_count": 17,
   "id": "49de070f",
   "metadata": {},
   "outputs": [],
   "source": [
    "import networkx as nx\n",
    "import pandas as pd"
   ]
  },
  {
   "attachments": {},
   "cell_type": "markdown",
   "id": "d01ba8dc",
   "metadata": {},
   "source": [
    "Import eQTMs (all identified probe-gene pairs along with their \"rho\" correlation coefficient )"
   ]
  },
  {
   "cell_type": "code",
   "execution_count": 18,
   "id": "cf9ad007",
   "metadata": {},
   "outputs": [],
   "source": [
    "df = pd.read_csv('eqtm_network.csv')"
   ]
  },
  {
   "cell_type": "markdown",
   "id": "39126b9b",
   "metadata": {},
   "source": [
    "## Create network based on eQTM results"
   ]
  },
  {
   "cell_type": "code",
   "execution_count": 19,
   "id": "9e2f7552",
   "metadata": {},
   "outputs": [],
   "source": [
    "net = nx.from_pandas_edgelist(df, source='probe', target='gene', edge_attr=\"rho\") #edge_attr=True"
   ]
  },
  {
   "cell_type": "markdown",
   "id": "1499eff3",
   "metadata": {},
   "source": [
    "Save weights as separate list"
   ]
  },
  {
   "cell_type": "code",
   "execution_count": 20,
   "id": "30aad483",
   "metadata": {},
   "outputs": [],
   "source": [
    "weights = [i['rho'] for i in dict(net.edges).values()]"
   ]
  },
  {
   "cell_type": "markdown",
   "id": "553e0028",
   "metadata": {},
   "source": [
    "## Detect greedy communities within the network"
   ]
  },
  {
   "cell_type": "code",
   "execution_count": 21,
   "id": "ed4f4ad4",
   "metadata": {},
   "outputs": [],
   "source": [
    "G = nx.Graph(net)"
   ]
  },
  {
   "cell_type": "code",
   "execution_count": 22,
   "id": "36c543be",
   "metadata": {},
   "outputs": [],
   "source": [
    "from networkx.algorithms.community import greedy_modularity_communities\n",
    "comm = greedy_modularity_communities(G)"
   ]
  },
  {
   "cell_type": "code",
   "execution_count": 23,
   "id": "31c1eb87",
   "metadata": {},
   "outputs": [
    {
     "name": "stdout",
     "output_type": "stream",
     "text": [
      "The eQTM networks have 278 communities.\n"
     ]
    }
   ],
   "source": [
    "print(f\"The eQTM networks have {len(comm)} communities.\")"
   ]
  },
  {
   "attachments": {},
   "cell_type": "markdown",
   "id": "40ba2681",
   "metadata": {},
   "source": [
    "Save communities as .csv dataframe"
   ]
  },
  {
   "cell_type": "code",
   "execution_count": 24,
   "id": "ca276fec",
   "metadata": {},
   "outputs": [],
   "source": [
    "df = [list(x) for x in comm]\n",
    "results = pd.DataFrame(list(zip(df)))"
   ]
  },
  {
   "cell_type": "code",
   "execution_count": 30,
   "id": "3d877e71",
   "metadata": {},
   "outputs": [],
   "source": [
    "results.to_csv(\"all_communities.csv\")"
   ]
  }
 ],
 "metadata": {
  "kernelspec": {
   "display_name": "Python/3.7.4 (src)",
   "language": "python",
   "name": "python_3.7.4-gcccore-8.3.0"
  },
  "language_info": {
   "codemirror_mode": {
    "name": "ipython",
    "version": 3
   },
   "file_extension": ".py",
   "mimetype": "text/x-python",
   "name": "python",
   "nbconvert_exporter": "python",
   "pygments_lexer": "ipython3",
   "version": "3.7.4"
  }
 },
 "nbformat": 4,
 "nbformat_minor": 5
}
