{
 "cells": [
  {
   "attachments": {},
   "cell_type": "markdown",
   "id": "16c757da",
   "metadata": {},
   "source": [
    "# Generate the phenotype bed.gz file to run tensorQTL"
   ]
  },
  {
   "attachments": {},
   "cell_type": "markdown",
   "id": "eb48fab9",
   "metadata": {},
   "source": [
    "Load necessary libraries"
   ]
  },
  {
   "cell_type": "code",
   "execution_count": null,
   "id": "655fdffa",
   "metadata": {},
   "outputs": [],
   "source": [
    "import pandas as pd\n",
    "import qtl\n",
    "from qtl import io"
   ]
  },
  {
   "attachments": {},
   "cell_type": "markdown",
   "id": "e2614485",
   "metadata": {},
   "source": [
    "Create necessary function which was excluded from updated qtl package version"
   ]
  },
  {
   "cell_type": "code",
   "execution_count": null,
   "id": "4407fe36",
   "metadata": {},
   "outputs": [],
   "source": [
    "# Function to sort the bed file. It used to be integrated in an older version of the qtl package.\n",
    "def sort_bed(bed_df, inplace=True):\n",
    "    \"\"\"Sort BED DataFrame\"\"\"\n",
    "    sorted_df = bed_df.sort_values(['chr', 'start', 'end'], key=lambda x:\n",
    "                    x.str.replace('chr','').str.replace('X','23').astype(int) if x.dtype == object else x,\n",
    "                    inplace=inplace)\n",
    "    if inplace:\n",
    "        bed_df.reset_index(drop=True, inplace=True)\n",
    "    else:\n",
    "        sorted_df.reset_index(drop=True, inplace=True)\n",
    "        return sorted_df\n"
   ]
  },
  {
   "attachments": {},
   "cell_type": "markdown",
   "id": "a0fa9a88",
   "metadata": {},
   "source": [
    "Load PEER analysis generated methylation residuals and sort them based on chromosomal order"
   ]
  },
  {
   "cell_type": "code",
   "execution_count": null,
   "id": "bce8b1b9",
   "metadata": {},
   "outputs": [],
   "source": [
    "df = pd.read_csv(\"methylation_residuals_3_v2.csv\")\n",
    "df"
   ]
  },
  {
   "cell_type": "code",
   "execution_count": null,
   "id": "4d55d35e",
   "metadata": {},
   "outputs": [],
   "source": [
    "sort_bed(df, inplace=True)\n",
    "df"
   ]
  },
  {
   "cell_type": "markdown",
   "id": "1d6e5b39",
   "metadata": {},
   "source": [
    "Finally, save the bed.gz phenotype file:"
   ]
  },
  {
   "cell_type": "code",
   "execution_count": null,
   "id": "55619e8b",
   "metadata": {},
   "outputs": [],
   "source": [
    "io.write_bed(df, \"methylation_residuals_3.bed.gz\",header=True, float_format=None)"
   ]
  }
 ],
 "metadata": {
  "kernelspec": {
   "display_name": "CUDA/GPU Python 3.9.5 (src)",
   "language": "python",
   "name": "python_3.9.5-gcccore-10.3.0"
  },
  "language_info": {
   "codemirror_mode": {
    "name": "ipython",
    "version": 3
   },
   "file_extension": ".py",
   "mimetype": "text/x-python",
   "name": "python",
   "nbconvert_exporter": "python",
   "pygments_lexer": "ipython3",
   "version": "3.9.5"
  }
 },
 "nbformat": 4,
 "nbformat_minor": 5
}
