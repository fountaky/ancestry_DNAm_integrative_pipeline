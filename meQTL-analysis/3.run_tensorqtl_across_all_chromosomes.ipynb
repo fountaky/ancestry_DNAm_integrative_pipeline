{
 "cells": [
  {
   "cell_type": "markdown",
   "id": "56b0ef6d",
   "metadata": {},
   "source": [
    "# tesnorQTL analysis for all chromosomes"
   ]
  },
  {
   "cell_type": "markdown",
   "id": "d5fbe4b9",
   "metadata": {},
   "source": [
    "## Import packages"
   ]
  },
  {
   "cell_type": "code",
   "execution_count": null,
   "id": "9c4933fa",
   "metadata": {},
   "outputs": [],
   "source": [
    "import pandas as pd\n",
    "import torch\n",
    "import tensorqtl\n",
    "from tensorqtl import genotypeio, cis, trans, post, pgen\n",
    "device = torch.device(\"cuda\" if torch.cuda.is_available() else \"cpu\")\n",
    "print(f\"torch: {torch.__version__} (CUDA {torch.version.cuda}), device: {device}\")\n",
    "print(f\"pandas {pd.__version__}\")\n",
    "import os.path"
   ]
  },
  {
   "cell_type": "markdown",
   "id": "7fa181d7",
   "metadata": {},
   "source": [
    "## Run the analysis for all chromosomes"
   ]
  },
  {
   "cell_type": "code",
   "execution_count": null,
   "id": "0f7fc0f5",
   "metadata": {},
   "outputs": [],
   "source": [
    "list_of_df_cis = []\n",
    "full_table_cis = pd.DataFrame()\n",
    "\n",
    "list_of_df_trans = []\n",
    "full_table_trans = pd.DataFrame()\n",
    "\n",
    "for x in range(1,23):\n",
    "    \n",
    "    # Set paths\n",
    "    plink_prefix_path = f'/vcfs/brca_chr{x}'\n",
    "    methylation_bed = 'methylation_residuals_3.bed.gz'\n",
    "    prefix ='/meQTL_results/meQTL'\n",
    "    \n",
    "    # Load phenotypes, covariates \n",
    "    phenotype_df, phenotype_pos_df = tensorqtl.read_phenotype_bed(methylation_bed)\n",
    "    # Covariates file not needed since we adjusted for covariates when obtaining methylation residuals with PEER\n",
    "    \n",
    "    pr = genotypeio.PlinkReader(f'/vcfs/brca_chr{x}')\n",
    "    # Load genotypes and variants into data frames\n",
    "    genotype_df = pr.load_genotypes()\n",
    "    variant_df = pr.bim.set_index('snp')[['chrom', 'pos']]\n",
    "    \n",
    "    \n",
    "    ####### cis-meQTL: nominal p-values for all variant-phenotype pairs per chrosomome\n",
    "    cis.map_nominal(genotype_df, variant_df,\n",
    "                phenotype_df.loc[phenotype_pos_df['chr'] == f'chr{x}'],\n",
    "                phenotype_pos_df.loc[phenotype_pos_df['chr'] == f'chr{x}'],\n",
    "                prefix, window=1000000)  \n",
    "    # load results\n",
    "    pairs_df = pd.read_parquet(f'{prefix}.cis_qtl_pairs.chr{x}.parquet')\n",
    "    pairs_df\n",
    "    \n",
    "    # Resave only significant cis-meQTLs per chromosome as csv file\n",
    "    pairs_df[pairs_df['pval_nominal'] <= 2e-5].to_csv(f'{prefix}.cis_qtl_pairs_chr{x}.csv')\n",
    "    \n",
    "    # Create list with significant cis-meQTLs across all chrosomes\n",
    "    list_of_df_cis.append(pairs_df[(pairs_df['pval_nominal'] < 2e-5)]) \n",
    "    \n",
    "    ####### trans-meQTLs #############\n",
    "    trans_df = trans.map_trans(genotype_df, phenotype_df,\n",
    "                           return_sparse=True, pval_threshold=2e-5, maf_threshold=0,\n",
    "                            batch_size=20000) \n",
    "                                              \n",
    " \n",
    "    # remove cis-associations\n",
    "    trans_df = trans.filter_cis(trans_df, phenotype_pos_df.T.to_dict(), variant_df, window=1000000) \n",
    "    \n",
    "    # save trans meQTLs\n",
    "    trans_df.to_csv(f'{prefix}.trans_chr{x}.csv')\n",
    "    \n",
    "    # Create list with significant trans-meQTLs across all chrosomes\n",
    "    list_of_df_trans.append(trans_df) "
   ]
  },
  {
   "cell_type": "code",
   "execution_count": 6,
   "id": "016d1eca",
   "metadata": {},
   "outputs": [],
   "source": [
    "# Save overall results\n",
    "full_df_cis = pd.concat(list_of_df_cis,ignore_index=True)\n",
    "full_df_trans = pd.concat(list_of_df_trans,ignore_index=True)\n",
    "\n",
    "full_df_cis.to_csv(f'{prefix}_cis_sig_all_3.csv')\n",
    "full_df_trans.to_csv(f'{prefix}_trans_sig_all_3.csv')"
   ]
  }
 ],
 "metadata": {
  "kernelspec": {
   "display_name": "CUDA/GPU Python 3.9.5 (src)",
   "language": "python",
   "name": "python_3.9.5-gcccore-10.3.0"
  },
  "language_info": {
   "codemirror_mode": {
    "name": "ipython",
    "version": 3
   },
   "file_extension": ".py",
   "mimetype": "text/x-python",
   "name": "python",
   "nbconvert_exporter": "python",
   "pygments_lexer": "ipython3",
   "version": "3.9.5"
  }
 },
 "nbformat": 4,
 "nbformat_minor": 5
}
